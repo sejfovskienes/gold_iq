{
 "cells": [
  {
   "cell_type": "code",
   "execution_count": 1,
   "id": "99a7086c",
   "metadata": {},
   "outputs": [],
   "source": [
    "import yfinance as yf"
   ]
  },
  {
   "cell_type": "code",
   "execution_count": 2,
   "id": "e9889801",
   "metadata": {},
   "outputs": [
    {
     "name": "stdout",
     "output_type": "stream",
     "text": [
      "                                  Open         High          Low        Close  \\\n",
      "Date                                                                            \n",
      "2025-04-21 00:00:00-04:00  5232.939941  5232.939941  5101.629883  5158.200195   \n",
      "2025-04-22 00:00:00-04:00  5207.669922  5309.609863  5207.669922  5287.759766   \n",
      "2025-04-23 00:00:00-04:00  5395.919922  5469.689941  5356.169922  5375.859863   \n",
      "2025-04-24 00:00:00-04:00  5381.379883  5489.399902  5371.959961  5484.770020   \n",
      "2025-04-25 00:00:00-04:00  5489.729980  5528.109863  5455.859863  5525.209961   \n",
      "\n",
      "                               Volume  Dividends  Stock Splits  \n",
      "Date                                                            \n",
      "2025-04-21 00:00:00-04:00  4226340000        0.0           0.0  \n",
      "2025-04-22 00:00:00-04:00  4666950000        0.0           0.0  \n",
      "2025-04-23 00:00:00-04:00  5371390000        0.0           0.0  \n",
      "2025-04-24 00:00:00-04:00  4697710000        0.0           0.0  \n",
      "2025-04-25 00:00:00-04:00  4236580000        0.0           0.0  \n"
     ]
    }
   ],
   "source": [
    "sp500 = yf.Ticker('^GSPC')\n",
    "\n",
    "sp500_data = sp500.history(period='7y', interval='1d')\n",
    "\n",
    "print(sp500_data.tail())"
   ]
  },
  {
   "cell_type": "code",
   "execution_count": 3,
   "id": "df15effb",
   "metadata": {},
   "outputs": [],
   "source": [
    "import pandas as pd\n",
    "\n",
    "path = r'C:\\Users\\User\\Desktop\\🪙gold_iq\\backend\\data_collector\\datasets\\sp500_data.csv'\n",
    "\n",
    "sp500_data.to_csv(path)"
   ]
  }
 ],
 "metadata": {
  "kernelspec": {
   "display_name": "Python (data_collector)",
   "language": "python",
   "name": "data_collector"
  },
  "language_info": {
   "codemirror_mode": {
    "name": "ipython",
    "version": 3
   },
   "file_extension": ".py",
   "mimetype": "text/x-python",
   "name": "python",
   "nbconvert_exporter": "python",
   "pygments_lexer": "ipython3",
   "version": "3.12.8"
  }
 },
 "nbformat": 4,
 "nbformat_minor": 5
}
