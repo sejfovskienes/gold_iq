{
 "cells": [
  {
   "cell_type": "code",
   "execution_count": 1,
   "id": "5442bc26",
   "metadata": {},
   "outputs": [],
   "source": [
    "import requests\n",
    "from datetime import datetime, timedelta\n",
    "import pandas as pd\n",
    "import numpy as np"
   ]
  },
  {
   "cell_type": "code",
   "execution_count": 2,
   "id": "f880740a",
   "metadata": {},
   "outputs": [
    {
     "data": {
      "text/plain": [
       "True"
      ]
     },
     "execution_count": 2,
     "metadata": {},
     "output_type": "execute_result"
    }
   ],
   "source": [
    "from dotenv import load_dotenv\n",
    "import os \n",
    "\n",
    "load_dotenv(override=True)"
   ]
  },
  {
   "cell_type": "code",
   "execution_count": 3,
   "id": "7fa6ba23",
   "metadata": {},
   "outputs": [],
   "source": [
    "end_date = datetime.today() #--- made on 17.5.2025\n",
    "start_date = end_date - timedelta(days=365 * 7)\n",
    "start_str = start_date.strftime('%Y-%m-%d')\n",
    "end_str = end_date.strftime('%Y-%m-%d')"
   ]
  },
  {
   "cell_type": "code",
   "execution_count": 6,
   "id": "d08ef6ed",
   "metadata": {},
   "outputs": [],
   "source": [
    "def fetch_fred_series(series_id : str) -> pd.DataFrame:\n",
    "    url = f'https://api.stlouisfed.org/fred/series/observations'\n",
    "\n",
    "    params = {\n",
    "        'series_id' : series_id,\n",
    "        'api_key' : os.environ['FRED_API_KEY'],\n",
    "        'file_type' : 'json',\n",
    "        'observation_start' : start_str,\n",
    "        'observation_end' : end_str\n",
    "        \n",
    "    }\n",
    "\n",
    "    response = requests.get(url, params=params)\n",
    "    data = response.json()\n",
    "    df = pd.DataFrame(data['observations'])\n",
    "    df['date'] = pd.to_datetime(df['date'])\n",
    "    df.set_index('date', inplace = True)\n",
    "    df['value'] = df['value'].replace('.', np.nan).astype(float)\n",
    "    df.rename(columns={'value':series_id}, inplace=True)\n",
    "\n",
    "    return df"
   ]
  },
  {
   "cell_type": "code",
   "execution_count": 7,
   "id": "cad79588",
   "metadata": {},
   "outputs": [
    {
     "name": "stdout",
     "output_type": "stream",
     "text": [
      "1824\n",
      "           realtime_start realtime_end    SP500\n",
      "date                                           \n",
      "2018-05-21     2025-05-17   2025-05-17  2733.01\n",
      "2018-05-22     2025-05-17   2025-05-17  2724.44\n",
      "2018-05-23     2025-05-17   2025-05-17  2733.29\n",
      "2018-05-24     2025-05-17   2025-05-17  2727.76\n",
      "2018-05-25     2025-05-17   2025-05-17  2721.33\n"
     ]
    }
   ],
   "source": [
    "df = fetch_fred_series('SP500')\n",
    "\n",
    "print(len(df))\n",
    "\n",
    "print(df.head())"
   ]
  },
  {
   "cell_type": "code",
   "execution_count": 8,
   "id": "5c898d64",
   "metadata": {},
   "outputs": [],
   "source": [
    "path = r'C:\\Users\\User\\Desktop\\🪙gold_iq\\backend\\data_collector\\datasets2\\sp500.csv'\n",
    "\n",
    "df.to_csv(path)"
   ]
  }
 ],
 "metadata": {
  "kernelspec": {
   "display_name": "Python (data_collector)",
   "language": "python",
   "name": "data_collector"
  },
  "language_info": {
   "codemirror_mode": {
    "name": "ipython",
    "version": 3
   },
   "file_extension": ".py",
   "mimetype": "text/x-python",
   "name": "python",
   "nbconvert_exporter": "python",
   "pygments_lexer": "ipython3",
   "version": "3.12.8"
  }
 },
 "nbformat": 4,
 "nbformat_minor": 5
}
