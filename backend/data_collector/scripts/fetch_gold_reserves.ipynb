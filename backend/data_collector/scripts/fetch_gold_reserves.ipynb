{
 "cells": [
  {
   "cell_type": "code",
   "execution_count": 1,
   "id": "86c55d7c",
   "metadata": {},
   "outputs": [],
   "source": [
    "import requests\n",
    "from datetime import datetime, timedelta\n",
    "import pandas as pd\n",
    "import numpy as np"
   ]
  },
  {
   "cell_type": "code",
   "execution_count": 5,
   "id": "f1608d0c",
   "metadata": {},
   "outputs": [
    {
     "data": {
      "text/plain": [
       "True"
      ]
     },
     "execution_count": 5,
     "metadata": {},
     "output_type": "execute_result"
    }
   ],
   "source": [
    "from dotenv import load_dotenv\n",
    "import os \n",
    "\n",
    "load_dotenv(override=True)"
   ]
  },
  {
   "cell_type": "code",
   "execution_count": 2,
   "id": "6b650a66",
   "metadata": {},
   "outputs": [],
   "source": [
    "end_date = datetime.today() #--- made on 17.5.2025\n",
    "start_date = end_date - timedelta(days=365 * 7)\n",
    "start_str = start_date.strftime('%Y-%m-%d')\n",
    "end_str = end_date.strftime('%Y-%m-%d')"
   ]
  },
  {
   "cell_type": "code",
   "execution_count": 3,
   "id": "71a8fa95",
   "metadata": {},
   "outputs": [],
   "source": [
    "def fetch_fred_series(series_id : str) -> pd.DataFrame:\n",
    "    url = f'https://api.stlouisfed.org/fred/series/observations'\n",
    "\n",
    "    params = {\n",
    "        'series_id' : series_id,\n",
    "        'api_key' : os.environ['FRED_API_KEY'],\n",
    "        'file_type' : 'json',\n",
    "        'observation_start' : start_str,\n",
    "        'observation_end' : end_str\n",
    "        \n",
    "    }\n",
    "\n",
    "    response = requests.get(url, params=params)\n",
    "    data = response.json()\n",
    "    df = pd.DataFrame(data['observations'])\n",
    "    df['date'] = pd.to_datetime(df['date'])\n",
    "    df.set_index('date', inplace = True)\n",
    "    df = df[['value']].astype(float)\n",
    "    df.rename(columns={'value':series_id}, inplace=True)\n",
    "\n",
    "    return df"
   ]
  },
  {
   "cell_type": "code",
   "execution_count": 6,
   "id": "922159ba",
   "metadata": {},
   "outputs": [
    {
     "name": "stdout",
     "output_type": "stream",
     "text": [
      "84\n",
      "            IR14270\n",
      "date               \n",
      "2018-05-01     49.6\n",
      "2018-06-01     49.1\n",
      "2018-07-01     47.4\n",
      "2018-08-01     46.1\n",
      "2018-09-01     45.4\n"
     ]
    }
   ],
   "source": [
    "df = fetch_fred_series('IR14270')\n",
    "\n",
    "print(len(df))\n",
    "\n",
    "print(df.head())"
   ]
  },
  {
   "cell_type": "code",
   "execution_count": 7,
   "id": "06c1c611",
   "metadata": {},
   "outputs": [],
   "source": [
    "path = r'C:\\Users\\User\\Desktop\\🪙gold_iq\\backend\\data_collector\\datasets2\\gold_reserves.csv'\n",
    "\n",
    "df.to_csv(path)"
   ]
  }
 ],
 "metadata": {
  "kernelspec": {
   "display_name": "Python (data_collector)",
   "language": "python",
   "name": "data_collector"
  },
  "language_info": {
   "codemirror_mode": {
    "name": "ipython",
    "version": 3
   },
   "file_extension": ".py",
   "mimetype": "text/x-python",
   "name": "python",
   "nbconvert_exporter": "python",
   "pygments_lexer": "ipython3",
   "version": "3.12.8"
  }
 },
 "nbformat": 4,
 "nbformat_minor": 5
}
