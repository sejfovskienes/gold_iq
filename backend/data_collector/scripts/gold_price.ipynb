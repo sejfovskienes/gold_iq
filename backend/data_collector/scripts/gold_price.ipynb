{
 "cells": [
  {
   "cell_type": "code",
   "execution_count": 20,
   "id": "7faf420c",
   "metadata": {},
   "outputs": [],
   "source": [
    "import yfinance as yf\n"
   ]
  },
  {
   "cell_type": "code",
   "execution_count": 21,
   "id": "96282436",
   "metadata": {},
   "outputs": [
    {
     "name": "stdout",
     "output_type": "stream",
     "text": [
      "                                  Open         High          Low        Close  \\\n",
      "Date                                                                            \n",
      "2025-04-21 00:00:00-04:00  3342.199951  3418.500000  3342.199951  3406.199951   \n",
      "2025-04-22 00:00:00-04:00  3422.199951  3485.600098  3361.699951  3400.800049   \n",
      "2025-04-23 00:00:00-04:00  3321.199951  3370.300049  3256.199951  3276.300049   \n",
      "2025-04-24 00:00:00-04:00  3305.399902  3353.899902  3304.899902  3332.000000   \n",
      "2025-04-25 00:00:00-04:00  3355.500000  3355.500000  3266.100098  3282.399902   \n",
      "\n",
      "                           Volume  Dividends  Stock Splits  \n",
      "Date                                                        \n",
      "2025-04-21 00:00:00-04:00      78        0.0           0.0  \n",
      "2025-04-22 00:00:00-04:00     785        0.0           0.0  \n",
      "2025-04-23 00:00:00-04:00     331        0.0           0.0  \n",
      "2025-04-24 00:00:00-04:00     560        0.0           0.0  \n",
      "2025-04-25 00:00:00-04:00     560        0.0           0.0  \n"
     ]
    }
   ],
   "source": [
    "gold = yf.Ticker('GC=F')\n",
    "\n",
    "data = gold.history(period='7y', interval='1d')\n",
    "\n",
    "print(data.tail())"
   ]
  },
  {
   "cell_type": "code",
   "execution_count": 22,
   "id": "e88f4bca",
   "metadata": {},
   "outputs": [
    {
     "name": "stdout",
     "output_type": "stream",
     "text": [
      "                                  Open         High          Low        Close  \\\n",
      "Date                                                                            \n",
      "2018-04-26 00:00:00-04:00  1315.699951  1316.300049  1315.699951  1316.300049   \n",
      "2018-04-27 00:00:00-04:00  1315.300049  1321.699951  1312.800049  1320.300049   \n",
      "2018-04-30 00:00:00-04:00  1309.599976  1316.199951  1309.599976  1316.199951   \n",
      "2018-05-01 00:00:00-04:00  1313.199951  1313.800049  1303.400024  1303.800049   \n",
      "2018-05-02 00:00:00-04:00  1309.000000  1309.300049  1302.599976  1302.599976   \n",
      "\n",
      "                           Volume  Dividends  Stock Splits  \n",
      "Date                                                        \n",
      "2018-04-26 00:00:00-04:00     569        0.0           0.0  \n",
      "2018-04-27 00:00:00-04:00     622        0.0           0.0  \n",
      "2018-04-30 00:00:00-04:00      49        0.0           0.0  \n",
      "2018-05-01 00:00:00-04:00      28        0.0           0.0  \n",
      "2018-05-02 00:00:00-04:00      23        0.0           0.0  \n"
     ]
    }
   ],
   "source": [
    "print(data.head())"
   ]
  },
  {
   "cell_type": "code",
   "execution_count": 23,
   "id": "e688e26c",
   "metadata": {},
   "outputs": [
    {
     "data": {
      "text/plain": [
       "1761"
      ]
     },
     "execution_count": 23,
     "metadata": {},
     "output_type": "execute_result"
    }
   ],
   "source": [
    "len(data)"
   ]
  },
  {
   "cell_type": "markdown",
   "id": "79dea9c7",
   "metadata": {},
   "source": [
    "2. Saving  dataset locally\n"
   ]
  },
  {
   "cell_type": "code",
   "execution_count": 25,
   "id": "b69b021c",
   "metadata": {},
   "outputs": [],
   "source": [
    "import pandas as pd"
   ]
  },
  {
   "cell_type": "code",
   "execution_count": 28,
   "id": "1f90bc4f",
   "metadata": {},
   "outputs": [],
   "source": [
    "path = r'C:\\Users\\User\\Desktop\\🪙gold_iq\\backend\\data_collector\\datasets\\gold_data.csv'\n",
    "\n",
    "data.to_csv(path)"
   ]
  }
 ],
 "metadata": {
  "kernelspec": {
   "display_name": "Python (data_collector)",
   "language": "python",
   "name": "data_collector"
  },
  "language_info": {
   "codemirror_mode": {
    "name": "ipython",
    "version": 3
   },
   "file_extension": ".py",
   "mimetype": "text/x-python",
   "name": "python",
   "nbconvert_exporter": "python",
   "pygments_lexer": "ipython3",
   "version": "3.12.8"
  }
 },
 "nbformat": 4,
 "nbformat_minor": 5
}
