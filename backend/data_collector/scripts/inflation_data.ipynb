{
 "cells": [
  {
   "cell_type": "markdown",
   "id": "2bc0a22e",
   "metadata": {},
   "source": [
    "CPIAUCNS - Consumer Price Index for All Urban Customers\n",
    "This ticker indicates to the inflation rate and the cost of living in a country.\n",
    "The metrics are comparing to basket price from the 1982 up to 2024.\n",
    "\n",
    "Description: value like 315.493 means that prices of living are 3.15 times higher then they were in 1980's\n",
    "\n",
    "The inflation rate is going to be calclated by this formula:\n",
    "\n",
    "Inflation Rate (%)= ((CPI current - CPI previous) / CPI previous) *100\n",
    "\n",
    " "
   ]
  },
  {
   "cell_type": "code",
   "execution_count": 8,
   "id": "1af442b7",
   "metadata": {},
   "outputs": [],
   "source": [
    "from fredapi import Fred\n",
    "import pandas as pd"
   ]
  },
  {
   "cell_type": "code",
   "execution_count": 9,
   "id": "008eec07",
   "metadata": {},
   "outputs": [],
   "source": [
    "api_key = '88b4cecd869875f76f8b37c06c8e7bc1'"
   ]
  },
  {
   "cell_type": "code",
   "execution_count": 10,
   "id": "e08a156b",
   "metadata": {},
   "outputs": [],
   "source": [
    "fred = Fred(api_key = api_key)"
   ]
  },
  {
   "cell_type": "code",
   "execution_count": 11,
   "id": "b361744e",
   "metadata": {},
   "outputs": [],
   "source": [
    "cpi = fred.get_series('CPIAUCNS', observation_start='2018.01.01')"
   ]
  },
  {
   "cell_type": "code",
   "execution_count": 12,
   "id": "9d56ae13",
   "metadata": {},
   "outputs": [
    {
     "data": {
      "text/plain": [
       "2024-11-01    315.493\n",
       "2024-12-01    315.605\n",
       "2025-01-01    317.671\n",
       "2025-02-01    319.082\n",
       "2025-03-01    319.799\n",
       "dtype: float64"
      ]
     },
     "execution_count": 12,
     "metadata": {},
     "output_type": "execute_result"
    }
   ],
   "source": [
    "cpi.tail()"
   ]
  },
  {
   "cell_type": "code",
   "execution_count": 14,
   "id": "b2a46260",
   "metadata": {},
   "outputs": [],
   "source": [
    "cpi = pd.DataFrame(cpi)"
   ]
  },
  {
   "cell_type": "code",
   "execution_count": 15,
   "id": "7a30edc6",
   "metadata": {},
   "outputs": [
    {
     "data": {
      "text/html": [
       "<div>\n",
       "<style scoped>\n",
       "    .dataframe tbody tr th:only-of-type {\n",
       "        vertical-align: middle;\n",
       "    }\n",
       "\n",
       "    .dataframe tbody tr th {\n",
       "        vertical-align: top;\n",
       "    }\n",
       "\n",
       "    .dataframe thead th {\n",
       "        text-align: right;\n",
       "    }\n",
       "</style>\n",
       "<table border=\"1\" class=\"dataframe\">\n",
       "  <thead>\n",
       "    <tr style=\"text-align: right;\">\n",
       "      <th></th>\n",
       "      <th>0</th>\n",
       "    </tr>\n",
       "  </thead>\n",
       "  <tbody>\n",
       "    <tr>\n",
       "      <th>2018-01-01</th>\n",
       "      <td>247.867</td>\n",
       "    </tr>\n",
       "    <tr>\n",
       "      <th>2018-02-01</th>\n",
       "      <td>248.991</td>\n",
       "    </tr>\n",
       "    <tr>\n",
       "      <th>2018-03-01</th>\n",
       "      <td>249.554</td>\n",
       "    </tr>\n",
       "    <tr>\n",
       "      <th>2018-04-01</th>\n",
       "      <td>250.546</td>\n",
       "    </tr>\n",
       "    <tr>\n",
       "      <th>2018-05-01</th>\n",
       "      <td>251.588</td>\n",
       "    </tr>\n",
       "  </tbody>\n",
       "</table>\n",
       "</div>"
      ],
      "text/plain": [
       "                  0\n",
       "2018-01-01  247.867\n",
       "2018-02-01  248.991\n",
       "2018-03-01  249.554\n",
       "2018-04-01  250.546\n",
       "2018-05-01  251.588"
      ]
     },
     "execution_count": 15,
     "metadata": {},
     "output_type": "execute_result"
    }
   ],
   "source": [
    "cpi.head()"
   ]
  },
  {
   "cell_type": "code",
   "execution_count": 16,
   "id": "f9c0ca26",
   "metadata": {},
   "outputs": [],
   "source": [
    "cpi.columns = ['CPI']"
   ]
  },
  {
   "cell_type": "code",
   "execution_count": 18,
   "id": "312aa385",
   "metadata": {},
   "outputs": [
    {
     "name": "stdout",
     "output_type": "stream",
     "text": [
      "                CPI\n",
      "Date               \n",
      "2018-01-01  247.867\n",
      "2018-02-01  248.991\n",
      "2018-03-01  249.554\n",
      "2018-04-01  250.546\n",
      "2018-05-01  251.588\n"
     ]
    }
   ],
   "source": [
    "cpi.index.name = 'Date'\n",
    "\n",
    "print(cpi.head())"
   ]
  },
  {
   "cell_type": "code",
   "execution_count": 19,
   "id": "0af80663",
   "metadata": {},
   "outputs": [],
   "source": [
    "cpi['Inflation Rate %'] = cpi['CPI'].pct_change()*100"
   ]
  },
  {
   "cell_type": "code",
   "execution_count": 20,
   "id": "053bb68f",
   "metadata": {},
   "outputs": [
    {
     "data": {
      "text/html": [
       "<div>\n",
       "<style scoped>\n",
       "    .dataframe tbody tr th:only-of-type {\n",
       "        vertical-align: middle;\n",
       "    }\n",
       "\n",
       "    .dataframe tbody tr th {\n",
       "        vertical-align: top;\n",
       "    }\n",
       "\n",
       "    .dataframe thead th {\n",
       "        text-align: right;\n",
       "    }\n",
       "</style>\n",
       "<table border=\"1\" class=\"dataframe\">\n",
       "  <thead>\n",
       "    <tr style=\"text-align: right;\">\n",
       "      <th></th>\n",
       "      <th>CPI</th>\n",
       "      <th>Inflation Rate %</th>\n",
       "    </tr>\n",
       "    <tr>\n",
       "      <th>Date</th>\n",
       "      <th></th>\n",
       "      <th></th>\n",
       "    </tr>\n",
       "  </thead>\n",
       "  <tbody>\n",
       "    <tr>\n",
       "      <th>2018-01-01</th>\n",
       "      <td>247.867</td>\n",
       "      <td>NaN</td>\n",
       "    </tr>\n",
       "    <tr>\n",
       "      <th>2018-02-01</th>\n",
       "      <td>248.991</td>\n",
       "      <td>0.453469</td>\n",
       "    </tr>\n",
       "    <tr>\n",
       "      <th>2018-03-01</th>\n",
       "      <td>249.554</td>\n",
       "      <td>0.226113</td>\n",
       "    </tr>\n",
       "    <tr>\n",
       "      <th>2018-04-01</th>\n",
       "      <td>250.546</td>\n",
       "      <td>0.397509</td>\n",
       "    </tr>\n",
       "    <tr>\n",
       "      <th>2018-05-01</th>\n",
       "      <td>251.588</td>\n",
       "      <td>0.415892</td>\n",
       "    </tr>\n",
       "  </tbody>\n",
       "</table>\n",
       "</div>"
      ],
      "text/plain": [
       "                CPI  Inflation Rate %\n",
       "Date                                 \n",
       "2018-01-01  247.867               NaN\n",
       "2018-02-01  248.991          0.453469\n",
       "2018-03-01  249.554          0.226113\n",
       "2018-04-01  250.546          0.397509\n",
       "2018-05-01  251.588          0.415892"
      ]
     },
     "execution_count": 20,
     "metadata": {},
     "output_type": "execute_result"
    }
   ],
   "source": [
    "cpi.head()"
   ]
  },
  {
   "cell_type": "code",
   "execution_count": 21,
   "id": "09ee87e7",
   "metadata": {},
   "outputs": [
    {
     "data": {
      "text/plain": [
       "87"
      ]
     },
     "execution_count": 21,
     "metadata": {},
     "output_type": "execute_result"
    }
   ],
   "source": [
    "len(cpi)"
   ]
  },
  {
   "cell_type": "markdown",
   "id": "5379b8a1",
   "metadata": {},
   "source": [
    "This is because the inflation rates are calculated base on monthly level. "
   ]
  },
  {
   "cell_type": "code",
   "execution_count": 22,
   "id": "3ab121b6",
   "metadata": {},
   "outputs": [],
   "source": [
    "cpi = cpi.ffill().bfill()"
   ]
  },
  {
   "cell_type": "code",
   "execution_count": 24,
   "id": "3db2c390",
   "metadata": {},
   "outputs": [
    {
     "data": {
      "text/plain": [
       "CPI                 0\n",
       "Inflation Rate %    0\n",
       "dtype: int64"
      ]
     },
     "execution_count": 24,
     "metadata": {},
     "output_type": "execute_result"
    }
   ],
   "source": [
    "cpi.isnull().sum()"
   ]
  },
  {
   "cell_type": "code",
   "execution_count": 25,
   "id": "bb85bb13",
   "metadata": {},
   "outputs": [],
   "source": [
    "path = r'C:\\Users\\User\\Desktop\\🪙gold_iq\\backend\\data_collector\\datasets\\inflation_rate.csv'\n",
    "\n",
    "cpi.to_csv(path)"
   ]
  }
 ],
 "metadata": {
  "kernelspec": {
   "display_name": "Python (data_collector)",
   "language": "python",
   "name": "data_collector"
  },
  "language_info": {
   "codemirror_mode": {
    "name": "ipython",
    "version": 3
   },
   "file_extension": ".py",
   "mimetype": "text/x-python",
   "name": "python",
   "nbconvert_exporter": "python",
   "pygments_lexer": "ipython3",
   "version": "3.12.8"
  }
 },
 "nbformat": 4,
 "nbformat_minor": 5
}
