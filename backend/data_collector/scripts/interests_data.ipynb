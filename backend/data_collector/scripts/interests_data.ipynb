{
 "cells": [
  {
   "cell_type": "code",
   "execution_count": 37,
   "id": "4a4cb244",
   "metadata": {},
   "outputs": [],
   "source": [
    "from fredapi import Fred\n",
    "import pandas as pd"
   ]
  },
  {
   "cell_type": "code",
   "execution_count": 33,
   "id": "7111cace",
   "metadata": {},
   "outputs": [],
   "source": [
    "api_key = '88b4cecd869875f76f8b37c06c8e7bc1'\n",
    "\n",
    "fred = Fred(api_key=api_key)"
   ]
  },
  {
   "cell_type": "code",
   "execution_count": 34,
   "id": "38586e8c",
   "metadata": {},
   "outputs": [
    {
     "data": {
      "text/plain": [
       "2024-11-01    4.64\n",
       "2024-12-01    4.48\n",
       "2025-01-01    4.33\n",
       "2025-02-01    4.33\n",
       "2025-03-01    4.33\n",
       "dtype: float64"
      ]
     },
     "execution_count": 34,
     "metadata": {},
     "output_type": "execute_result"
    }
   ],
   "source": [
    "interest_rate = fred.get_series('FEDFUNDS', observation_start='2018-01-01')\n",
    "\n",
    "interest_rate.tail()"
   ]
  },
  {
   "cell_type": "code",
   "execution_count": 35,
   "id": "64421777",
   "metadata": {},
   "outputs": [
    {
     "data": {
      "text/plain": [
       "pandas.core.series.Series"
      ]
     },
     "execution_count": 35,
     "metadata": {},
     "output_type": "execute_result"
    }
   ],
   "source": [
    "type(interest_rate)"
   ]
  },
  {
   "cell_type": "code",
   "execution_count": 38,
   "id": "07ad8aad",
   "metadata": {},
   "outputs": [],
   "source": [
    "df = interest_rate.apply(pd.Series)"
   ]
  },
  {
   "cell_type": "code",
   "execution_count": 45,
   "id": "5dc65e19",
   "metadata": {},
   "outputs": [
    {
     "name": "stdout",
     "output_type": "stream",
     "text": [
      "               0\n",
      "2018-01-01  1.41\n",
      "2018-02-01  1.42\n",
      "2018-03-01  1.51\n",
      "2018-04-01  1.69\n",
      "2018-05-01  1.70\n",
      "...          ...\n",
      "2024-11-01  4.64\n",
      "2024-12-01  4.48\n",
      "2025-01-01  4.33\n",
      "2025-02-01  4.33\n",
      "2025-03-01  4.33\n",
      "\n",
      "[87 rows x 1 columns]\n"
     ]
    }
   ],
   "source": [
    "print(df)"
   ]
  },
  {
   "cell_type": "code",
   "execution_count": 47,
   "id": "41ea26d5",
   "metadata": {},
   "outputs": [],
   "source": [
    "df['Interest Rate'] = df[0]"
   ]
  },
  {
   "cell_type": "code",
   "execution_count": 49,
   "id": "bb665553",
   "metadata": {},
   "outputs": [],
   "source": [
    "df = df.drop(columns=[0])"
   ]
  },
  {
   "cell_type": "code",
   "execution_count": 50,
   "id": "67590b64",
   "metadata": {},
   "outputs": [
    {
     "name": "stdout",
     "output_type": "stream",
     "text": [
      "            Interest Rate\n",
      "2018-01-01           1.41\n",
      "2018-02-01           1.42\n",
      "2018-03-01           1.51\n",
      "2018-04-01           1.69\n",
      "2018-05-01           1.70\n",
      "...                   ...\n",
      "2024-11-01           4.64\n",
      "2024-12-01           4.48\n",
      "2025-01-01           4.33\n",
      "2025-02-01           4.33\n",
      "2025-03-01           4.33\n",
      "\n",
      "[87 rows x 1 columns]\n"
     ]
    }
   ],
   "source": [
    "print(df)"
   ]
  },
  {
   "cell_type": "code",
   "execution_count": 51,
   "id": "5c735551",
   "metadata": {},
   "outputs": [],
   "source": [
    "path = r'C:\\Users\\User\\Desktop\\🪙gold_iq\\backend\\data_collector\\datasets\\interest_data.csv'\n",
    "\n",
    "df.to_csv(path)"
   ]
  },
  {
   "cell_type": "code",
   "execution_count": null,
   "id": "c9f574ae",
   "metadata": {},
   "outputs": [],
   "source": []
  }
 ],
 "metadata": {
  "kernelspec": {
   "display_name": "Python (data_collector)",
   "language": "python",
   "name": "data_collector"
  },
  "language_info": {
   "codemirror_mode": {
    "name": "ipython",
    "version": 3
   },
   "file_extension": ".py",
   "mimetype": "text/x-python",
   "name": "python",
   "nbconvert_exporter": "python",
   "pygments_lexer": "ipython3",
   "version": "3.12.8"
  }
 },
 "nbformat": 4,
 "nbformat_minor": 5
}
